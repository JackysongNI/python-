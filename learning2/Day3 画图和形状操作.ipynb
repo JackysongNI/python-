{
 "cells": [
  {
   "cell_type": "markdown",
   "metadata": {},
   "source": [
    "让我们来划一个正方形"
   ]
  },
  {
   "cell_type": "code",
   "execution_count": null,
   "metadata": {
    "collapsed": true
   },
   "outputs": [],
   "source": [
    "import cv2\n",
    "import numpy as np \n",
    "\n",
    "# 创建一个正方形的图像\n",
    "image = np.zeros((512,512,3),np.uint8)\n",
    "\n",
    "# 创建一个黑白的正方形\n",
    "image_bw = np.zeros((512,512),np.uint8)\n",
    "\n",
    "cv2.imshow(\"Black Rectangle (color)\",image)\n",
    "cv2.imshow(\"Black Rectangle (B&W)\",image_bw)\n",
    "\n",
    "cv2.waitKey(0)\n",
    "cv2.destroyAllWindows()"
   ]
  },
  {
   "cell_type": "markdown",
   "metadata": {},
   "source": [
    "画出一条穿过正方形的线"
   ]
  },
  {
   "cell_type": "code",
   "execution_count": null,
   "metadata": {},
   "outputs": [],
   "source": [
    "image = np.zeros((512,512,3),np.uint8)\n",
    "cv2.line(image,(0,0),(511,511),(255,127,0),5)\n",
    "cv2.imshow(\"Line\",image)\n",
    "\n",
    "cv2.waitKey(0)\n",
    "cv2.destroyAllWindows()"
   ]
  },
  {
   "cell_type": "code",
   "execution_count": null,
   "metadata": {
    "collapsed": true
   },
   "outputs": [],
   "source": [
    "# cv2.line(在什麼上面畫線,(起點座標),(終點座標),(線的顏色),線的寬度)"
   ]
  },
  {
   "cell_type": "markdown",
   "metadata": {},
   "source": [
    "在刚才的黑色四方形上 划一个矩形"
   ]
  },
  {
   "cell_type": "code",
   "execution_count": null,
   "metadata": {
    "collapsed": true
   },
   "outputs": [],
   "source": [
    "image = np.zeros((512,512,3),np.uint8)\n",
    "\n",
    "cv2.rectangle(image,(100,100),(300,250),(127,50,127),5)\n",
    "# cv2.rectangle(image,(100,100),(300,250),(127,50,127),-1) 实心矩形\n",
    "\n",
    "cv2.imshow(\"Rectangle\",image)\n",
    "\n",
    "cv2.waitKey(0)\n",
    "cv2.destroyAllWindows()"
   ]
  },
  {
   "cell_type": "code",
   "execution_count": null,
   "metadata": {
    "collapsed": true
   },
   "outputs": [],
   "source": [
    "# cv2.rectangle(在什麼上面畫線,(起點座標),(終點座標),(線的顏色),線的寬度)"
   ]
  },
  {
   "cell_type": "markdown",
   "metadata": {},
   "source": [
    "在黑色的四方形上划一个圆形"
   ]
  },
  {
   "cell_type": "code",
   "execution_count": null,
   "metadata": {
    "collapsed": true
   },
   "outputs": [],
   "source": [
    "image = np.zeros((512,512,3),np.uint8)\n",
    "\n",
    "cv2.circle(image,(350,350),100,(15,75,50),-1)\n",
    "cv2.imshow(\"circle\",image)\n",
    "\n",
    "cv2.waitKey(0)\n",
    "cv2.destroyAllWindows()"
   ]
  },
  {
   "cell_type": "code",
   "execution_count": null,
   "metadata": {
    "collapsed": true
   },
   "outputs": [],
   "source": [
    "# cv2.circle(在什么上面画线,(圆心座标),半径长度,(线的颜色),线的宽度)"
   ]
  },
  {
   "cell_type": "markdown",
   "metadata": {},
   "source": [
    "在黑色的四方形上划一个多边形"
   ]
  },
  {
   "cell_type": "code",
   "execution_count": null,
   "metadata": {
    "collapsed": true
   },
   "outputs": [],
   "source": [
    "image = np.zeros((512,512,3),np.uint8)\n",
    "\n",
    "#给出多边形每个顶点的座标\n",
    "pts = np.array([[10,50],[400,50],[90,200],[50,500]],np.int32)\n",
    "\n",
    "pts = pts.reshape((-1,1,2)) # 形狀出來了\n",
    "\n",
    "cv2.polylines(image,[pts],True,(0,0,255),5)\n",
    "\n",
    "cv2.imshow(\"Polygon\",image)\n",
    "\n",
    "cv2.waitKey(0)\n",
    "cv2.destroyAllWindows()"
   ]
  },
  {
   "cell_type": "code",
   "execution_count": null,
   "metadata": {
    "collapsed": true
   },
   "outputs": [],
   "source": [
    "# cv2.polylines(在什么上面画线,[顶点座标矩阵],彼此是否相连,颜色,线的粗细)\n",
    "\n",
    "# 在這裏話多邊形的時候 先的粗細不能是 -1"
   ]
  },
  {
   "cell_type": "markdown",
   "metadata": {},
   "source": [
    "加上文字"
   ]
  },
  {
   "cell_type": "code",
   "execution_count": null,
   "metadata": {
    "collapsed": true
   },
   "outputs": [],
   "source": [
    "image = np.zeros((512,512,3),np.uint8)\n",
    "\n",
    "cv2.putText(image,\"Hello world\",(75,200),cv2.FONT_HERSHEY_COMPLEX,2,(100,170,0),3)\n",
    "\n",
    "cv2.imshow(\"Text\",image)\n",
    "\n",
    "cv2.waitKey(0)\n",
    "cv2.destroyAllWindows()"
   ]
  },
  {
   "cell_type": "code",
   "execution_count": null,
   "metadata": {
    "collapsed": true
   },
   "outputs": [],
   "source": [
    "# cv2.putText(在什么上面写字,\"文字的内容\",(文字的起始座标),字体,字体大小,(颜色),粗细)"
   ]
  },
  {
   "cell_type": "code",
   "execution_count": null,
   "metadata": {
    "collapsed": true
   },
   "outputs": [],
   "source": []
  },
  {
   "cell_type": "code",
   "execution_count": null,
   "metadata": {
    "collapsed": true
   },
   "outputs": [],
   "source": []
  }
 ],
 "metadata": {
  "kernelspec": {
   "display_name": "Python 3",
   "language": "python",
   "name": "python3"
  },
  "language_info": {
   "codemirror_mode": {
    "name": "ipython",
    "version": 3
   },
   "file_extension": ".py",
   "mimetype": "text/x-python",
   "name": "python",
   "nbconvert_exporter": "python",
   "pygments_lexer": "ipython3",
   "version": "3.6.3"
  }
 },
 "nbformat": 4,
 "nbformat_minor": 2
}
