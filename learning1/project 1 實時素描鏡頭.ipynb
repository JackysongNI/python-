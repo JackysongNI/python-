{
 "cells": [
  {
   "cell_type": "code",
   "execution_count": 2,
   "metadata": {
    "collapsed": true
   },
   "outputs": [],
   "source": [
    "import cv2\n",
    "import numpy as np "
   ]
  },
  {
   "cell_type": "code",
   "execution_count": null,
   "metadata": {
    "collapsed": true
   },
   "outputs": [],
   "source": [
    "# 創建一個素描風格的方法\n",
    "def sketch(image):\n",
    "    # 把採集進來的影像轉成黑白(原圖)\n",
    "    img_gray = cv2.cvtColor(image, cv2.COLOR_BGR2GRAY)\n",
    "    # 把黑白的影像轉成高斯分佈 （後面會講）（去噪）\n",
    "    img_gray_blur = cv2.GaussianBlur(img_gray, (5,5),0)\n",
    "    # 把高斯分布的影像 轉乘 只取邊緣（後面會講）\n",
    "    canny_edges = cv2.Canny(img_gray_blur, 10,70)\n",
    "    # 做一個反轉的二進制圖像(把黑白反轉)\n",
    "    ret, mask = cv2.threshold(canny_edges, 70,255, cv2.THRESH_BINARY_INV)\n",
    "    \n",
    "    return mask\n",
    "\n",
    "#把鏡頭初始化\n",
    "cap = cv2.VideoCapture(0)\n",
    "#永遠開著\n",
    "while True:\n",
    "    #鏡頭收集畫面\n",
    "    ret, frame = cap.read()\n",
    "    cv2.imshow(\"Vergil show\",sketch(frame))\n",
    "    # 每一毫秒刷新畫面\n",
    "    if cv2.waitKey(1) == 13:\n",
    "        break\n",
    "    \n",
    "cap.release()\n",
    "cv2.destroyAllWindows()\n",
    "    \n",
    "    "
   ]
  },
  {
   "cell_type": "code",
   "execution_count": null,
   "metadata": {
    "collapsed": true
   },
   "outputs": [],
   "source": []
  }
 ],
 "metadata": {
  "kernelspec": {
   "display_name": "Python 3",
   "language": "python",
   "name": "python3"
  },
  "language_info": {
   "codemirror_mode": {
    "name": "ipython",
    "version": 3
   },
   "file_extension": ".py",
   "mimetype": "text/x-python",
   "name": "python",
   "nbconvert_exporter": "python",
   "pygments_lexer": "ipython3",
   "version": "3.6.3"
  }
 },
 "nbformat": 4,
 "nbformat_minor": 2
}
