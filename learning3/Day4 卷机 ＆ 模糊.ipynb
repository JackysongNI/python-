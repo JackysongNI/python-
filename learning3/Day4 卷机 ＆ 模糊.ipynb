{
 "cells": [
  {
   "cell_type": "code",
   "execution_count": null,
   "metadata": {
    "collapsed": true
   },
   "outputs": [],
   "source": [
    "import cv2\n",
    "import numpy as np \n",
    "\n",
    "image = cv2.imread(\"./images/elephant.jpg\")\n",
    "# cv2.imshow(\"Original Image\",image)\n",
    "# cv2.waitKey()\n",
    "\n",
    "# 創建一個 3 * 3 的內核\n",
    "kernel_3x3 = np.ones((3,3),np.float32) / 9\n",
    "\n",
    "blurred = cv2.filter2D(image, -1, kernel_3x3)\n",
    "cv2.imshow(\"3X3\", blurred)\n",
    "cv2.waitKey()\n",
    "\n",
    "# 創建一個 7 * 7 的內核\n",
    "# kernel_7x7 = np.ones((7,7),np.float32) / 49\n",
    "\n",
    "# blurred2 = cv2.filter2D(image, -1, kernel_7x7)\n",
    "# cv2.imshow(\"7X7\", blurred2)\n",
    "# cv2.waitKey()"
   ]
  },
  {
   "cell_type": "code",
   "execution_count": null,
   "metadata": {
    "collapsed": true
   },
   "outputs": [],
   "source": [
    "image.shape, blurred.shape,  blurred2.shape"
   ]
  },
  {
   "cell_type": "code",
   "execution_count": null,
   "metadata": {
    "collapsed": true
   },
   "outputs": [],
   "source": [
    "# filter2D(對什麼圖片進行處理, 範圍（如果要全局的話 -1）, 用什麼內核)"
   ]
  },
  {
   "cell_type": "markdown",
   "metadata": {},
   "source": [
    "# 用另一种方法处理模糊度"
   ]
  },
  {
   "cell_type": "code",
   "execution_count": null,
   "metadata": {
    "collapsed": true
   },
   "outputs": [],
   "source": [
    "import cv2\n",
    "import numpy as np \n",
    "\n",
    "image = cv2.imread(\"images/elephant.jpg\")\n",
    "\n",
    "# 通过归一化的处理，内核进行卷机完成平均\n",
    "# blur = cv2.blur(image,(3,3))\n",
    "# cv2.imshow(\"Averaging\", blur)\n",
    "# cv2.waitKey()\n",
    "# 中位數處理方法\n",
    "# median = cv2.medianBlur(image, 5) # 5 * 5  的內核\n",
    "# cv2.imshow(\"Median\", median)\n",
    "# cv2.waitKey()\n",
    "\n",
    "# # Gaussing\n",
    "# gussian = cv2.GaussianBlur(image,(7,7),0)\n",
    "# cv2.imshow(\"Gaussing\", gussian)\n",
    "# cv2.waitKey()\n",
    "\n",
    "# # 去噪\n",
    "bilateral = cv2.bilateralFilter(image,9 ,75, 75)\n",
    "cv2.imshow(\"bilateral\", bilateral)\n",
    "cv2.waitKey()\n"
   ]
  },
  {
   "cell_type": "code",
   "execution_count": null,
   "metadata": {
    "collapsed": true
   },
   "outputs": [],
   "source": [
    "# Averaging : blur 方法，在設置好的內核大小內取平均值  1,2,3,4,5 = 3\n",
    "# cv2.GaussianBlur: 從中心點網周圍去做增強或是加權\n",
    "# cv2.medianBlur：使用內核裡面所有的中位數（也就是中間大小的數字）  1,4,2,3,5 = 2\n",
    "# cv2.bilateralFilter: "
   ]
  },
  {
   "cell_type": "code",
   "execution_count": null,
   "metadata": {
    "collapsed": true
   },
   "outputs": [],
   "source": []
  }
 ],
 "metadata": {
  "kernelspec": {
   "display_name": "Python 3",
   "language": "python",
   "name": "python3"
  },
  "language_info": {
   "codemirror_mode": {
    "name": "ipython",
    "version": 3
   },
   "file_extension": ".py",
   "mimetype": "text/x-python",
   "name": "python",
   "nbconvert_exporter": "python",
   "pygments_lexer": "ipython3",
   "version": "3.6.3"
  }
 },
 "nbformat": 4,
 "nbformat_minor": 2
}
