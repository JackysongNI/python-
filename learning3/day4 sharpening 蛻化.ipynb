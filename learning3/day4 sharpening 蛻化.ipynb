{
 "cells": [
  {
   "cell_type": "code",
   "execution_count": null,
   "metadata": {},
   "outputs": [],
   "source": [
    "import cv2\n",
    "import numpy as np\n",
    "\n",
    "image = cv2.imread(\"./images/input.jpg\")\n",
    "\n",
    "\n",
    "# cv2.imshow(\"Image non - Sharpened\", image)\n",
    "\n",
    "kerel_sharpening = np.array([[-1,-1,-1,-1,-1],\n",
    "                             [-1,-1,-1,-1,-1],\n",
    "                             [-1,-1,25,-1,-1],\n",
    "                             [-1,-1,-1,-1,-1],\n",
    "                            [-1,-1,-1,-1,-1]])\n",
    "\n",
    "sharpened = cv2.filter2D(image,-1,kerel_sharpening)\n",
    "cv2.imshow(\"Image Sharpened\", sharpened)\n",
    "\n",
    "cv2.waitKey()\n",
    "cv2.destroyAllWindows()                          "
   ]
  },
  {
   "cell_type": "code",
   "execution_count": 9,
   "metadata": {
    "collapsed": true
   },
   "outputs": [],
   "source": [
    "# cv2.filter2D(对什么进行处理, 全局,用什么内核来处理)"
   ]
  },
  {
   "cell_type": "code",
   "execution_count": null,
   "metadata": {
    "collapsed": true
   },
   "outputs": [],
   "source": []
  }
 ],
 "metadata": {
  "kernelspec": {
   "display_name": "Python 3",
   "language": "python",
   "name": "python3"
  },
  "language_info": {
   "codemirror_mode": {
    "name": "ipython",
    "version": 3
   },
   "file_extension": ".py",
   "mimetype": "text/x-python",
   "name": "python",
   "nbconvert_exporter": "python",
   "pygments_lexer": "ipython3",
   "version": "3.6.3"
  }
 },
 "nbformat": 4,
 "nbformat_minor": 2
}
