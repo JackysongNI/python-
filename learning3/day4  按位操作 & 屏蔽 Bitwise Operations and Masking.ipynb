{
 "cells": [
  {
   "cell_type": "markdown",
   "metadata": {},
   "source": [
    "先來創建幾個間單的圖形"
   ]
  },
  {
   "cell_type": "code",
   "execution_count": null,
   "metadata": {
    "collapsed": true
   },
   "outputs": [],
   "source": [
    "import cv2\n",
    "import numpy as np \n",
    "\n",
    "#話一個長方形\n",
    "square = np.zeros((300,300), np.uint8)\n",
    "cv2.rectangle(square,(50,50),(250,250),255,-2)\n",
    "# cv2.imshow(\"Square\",square)\n",
    "# cv2.waitKey(0)\n",
    "\n",
    "#話一個圓形\n",
    "ellipse = np.zeros((300,300),np.uint8)\n",
    "cv2.ellipse(ellipse,(150,150),(150,150),30,0,180,255,-2)\n",
    "# cv2.imshow(\"Ellipse\",ellipse)\n",
    "# cv2.waitKey(0)\n",
    "\n",
    "# cv2.destroyAllWindows()\n",
    "\n",
    "# And 表示展示出两个图形都有被绘制的部分\n",
    "# And = cv2.bitwise_and(square,ellipse)\n",
    "# cv2.imshow(\"AND\",And)\n",
    "# cv2.waitKey(0) \n",
    "\n",
    "# # OR 把两个图形全部绘制出来 包含重叠区域\n",
    "# bitwiseOR = cv2.bitwise_or(square,ellipse)\n",
    "# cv2.imshow(\"OR\",bitwiseOR)\n",
    "# cv2.waitKey(0) \n",
    "\n",
    "# # XOR 把两个徒刑全部绘制出来， 不包含重叠区域\n",
    "bitwiseXOR = cv2.bitwise_xor(square,ellipse)\n",
    "cv2.imshow(\"XOR\",bitwiseXOR)\n",
    "cv2.waitKey(0) \n",
    "\n",
    "# #NOT 对于原本的图像数值，取相反值\n",
    "# bitwiseNOT_sq = cv2.bitwise_not(square)\n",
    "# cv2.imshow(\"NOT\",bitwiseNOT_sq)\n",
    "# cv2.waitKey(0) "
   ]
  },
  {
   "cell_type": "markdown",
   "metadata": {},
   "source": [
    "# 嘗試一些按位操作"
   ]
  },
  {
   "cell_type": "code",
   "execution_count": 1,
   "metadata": {},
   "outputs": [
    {
     "ename": "NameError",
     "evalue": "name 'cv2' is not defined",
     "output_type": "error",
     "traceback": [
      "\u001b[0;31m---------------------------------------------------------------------------\u001b[0m",
      "\u001b[0;31mNameError\u001b[0m                                 Traceback (most recent call last)",
      "\u001b[0;32m<ipython-input-1-633031e37c3c>\u001b[0m in \u001b[0;36m<module>\u001b[0;34m()\u001b[0m\n\u001b[1;32m      1\u001b[0m \u001b[0;34m\u001b[0m\u001b[0m\n\u001b[1;32m      2\u001b[0m \u001b[0;31m# And 表示展示出两个图形都有被绘制的部分\u001b[0m\u001b[0;34m\u001b[0m\u001b[0;34m\u001b[0m\u001b[0m\n\u001b[0;32m----> 3\u001b[0;31m \u001b[0mAnd\u001b[0m \u001b[0;34m=\u001b[0m \u001b[0mcv2\u001b[0m\u001b[0;34m.\u001b[0m\u001b[0mbitwise_and\u001b[0m\u001b[0;34m(\u001b[0m\u001b[0msquare\u001b[0m\u001b[0;34m,\u001b[0m\u001b[0mellipse\u001b[0m\u001b[0;34m)\u001b[0m\u001b[0;34m\u001b[0m\u001b[0m\n\u001b[0m\u001b[1;32m      4\u001b[0m \u001b[0mcv2\u001b[0m\u001b[0;34m.\u001b[0m\u001b[0mimshow\u001b[0m\u001b[0;34m(\u001b[0m\u001b[0;34m\"AND\"\u001b[0m\u001b[0;34m,\u001b[0m\u001b[0mAnd\u001b[0m\u001b[0;34m)\u001b[0m\u001b[0;34m\u001b[0m\u001b[0m\n\u001b[1;32m      5\u001b[0m \u001b[0mcv2\u001b[0m\u001b[0;34m.\u001b[0m\u001b[0mwaitKey\u001b[0m\u001b[0;34m(\u001b[0m\u001b[0;36m0\u001b[0m\u001b[0;34m)\u001b[0m\u001b[0;34m\u001b[0m\u001b[0m\n",
      "\u001b[0;31mNameError\u001b[0m: name 'cv2' is not defined"
     ]
    }
   ],
   "source": [
    "\n"
   ]
  },
  {
   "cell_type": "code",
   "execution_count": null,
   "metadata": {
    "collapsed": true
   },
   "outputs": [],
   "source": []
  }
 ],
 "metadata": {
  "kernelspec": {
   "display_name": "Python 3",
   "language": "python",
   "name": "python3"
  },
  "language_info": {
   "codemirror_mode": {
    "name": "ipython",
    "version": 3
   },
   "file_extension": ".py",
   "mimetype": "text/x-python",
   "name": "python",
   "nbconvert_exporter": "python",
   "pygments_lexer": "ipython3",
   "version": "3.6.3"
  }
 },
 "nbformat": 4,
 "nbformat_minor": 2
}
