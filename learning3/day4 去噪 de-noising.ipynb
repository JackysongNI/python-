{
 "cells": [
  {
   "cell_type": "code",
   "execution_count": 12,
   "metadata": {},
   "outputs": [],
   "source": [
    "import numpy as np \n",
    "import cv2\n",
    "\n",
    "image = cv2.imread(\"images/elephant.jpg\")\n",
    "\n",
    "dst = cv2.fastNlMeansDenoisingColored(image, None, 6, 6, 7, 21)\n",
    "\n",
    "cv2.imshow(\"fast means Denonising\",dst)\n",
    "cv2.waitKey()\n",
    "cv2.destroyAllWindows()"
   ]
  },
  {
   "cell_type": "code",
   "execution_count": null,
   "metadata": {},
   "outputs": [],
   "source": [
    "# fastNlMeansDenoising(\"對什麼進行操作\", \"輸出同樣大小的圖像\", \"補充的權重\",\"亮度的補充\",\"調節濾波器的強步越高的話校除越好\",\"加權平均的窗口大小推薦使用 21\")\n",
    "# 補充的大小建議是在 5 - 10 之間 6 "
   ]
  },
  {
   "cell_type": "code",
   "execution_count": 1,
   "metadata": {
    "collapsed": true
   },
   "outputs": [],
   "source": [
    "#cv2.fastNlMeansDenoising: 使用黑白的處理\n",
    "#cv2.fastNlMeansDenoisingColored: 跟彩色圖像一起使用，可以用權重來補充(6)\n",
    "#cv2.fastNlMeansDenoisingMulti：也是適用於黑白處理，直接取用周圍的小數字來填補缺失\n",
    "#cv2.fastNlMeansDenoisingColoredMulti: 同上，處理彩色圖像用的"
   ]
  },
  {
   "cell_type": "code",
   "execution_count": null,
   "metadata": {
    "collapsed": true
   },
   "outputs": [],
   "source": []
  }
 ],
 "metadata": {
  "kernelspec": {
   "display_name": "Python 3",
   "language": "python",
   "name": "python3"
  },
  "language_info": {
   "codemirror_mode": {
    "name": "ipython",
    "version": 3
   },
   "file_extension": ".py",
   "mimetype": "text/x-python",
   "name": "python",
   "nbconvert_exporter": "python",
   "pygments_lexer": "ipython3",
   "version": "3.5.4"
  }
 },
 "nbformat": 4,
 "nbformat_minor": 2
}
