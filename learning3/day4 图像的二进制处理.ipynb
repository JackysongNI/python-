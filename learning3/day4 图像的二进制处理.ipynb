{
 "cells": [
  {
   "cell_type": "code",
   "execution_count": 2,
   "metadata": {
    "collapsed": true
   },
   "outputs": [],
   "source": [
    "import cv2\n",
    "import numpy as np "
   ]
  },
  {
   "cell_type": "code",
   "execution_count": 3,
   "metadata": {
    "collapsed": true
   },
   "outputs": [],
   "source": [
    "image = cv2.imread(\"images/gradient.jpg\")"
   ]
  },
  {
   "cell_type": "code",
   "execution_count": null,
   "metadata": {},
   "outputs": [],
   "source": [
    "# cv2.imshow(\"Original\",image)\n",
    "# cv2.waitKey()\n",
    "\n",
    "# ret, thresh1 = cv2.threshold(image, 127, 255,cv2.THRESH_BINARY)\n",
    "# cv2.imshow(\"1. THRESH_BINARY\",thresh1)\n",
    "# cv2.waitKey()\n",
    "\n",
    "\n",
    "# ret, thresh2 = cv2.threshold(image, 127, 255,cv2.THRESH_BINARY_INV) # THRESH_BINARY_INV 是 THRESH_BINARY 的相反\n",
    "# cv2.imshow(\"2. THRESH_BINARY_INV\",thresh2)\n",
    "# cv2.waitKey()\n",
    "\n",
    "\n",
    "# ret, thresh3 = cv2.threshold(image, 127, 255,cv2.THRESH_TRUNC) #THRESH_TRUNC把整個圖像做一個平均\n",
    "# cv2.imshow(\"3. THRESH_TRUNC\",thresh3)\n",
    "# cv2.waitKey()\n",
    "\n",
    "\n",
    "# ret, thresh4 = cv2.threshold(image, 127, 255,cv2.THRESH_TOZERO)\n",
    "# cv2.imshow(\"4. THRESH_TOZERO\",thresh4)\n",
    "# cv2.waitKey()\n",
    "\n",
    "\n",
    "ret, thresh5 = cv2.threshold(image, 127, 255,cv2.THRESH_TOZERO_INV)\n",
    "cv2.imshow(\"5. THRESH_BINARY\",thresh5)\n",
    "cv2.waitKey()\n"
   ]
  },
  {
   "cell_type": "code",
   "execution_count": 1,
   "metadata": {
    "collapsed": true
   },
   "outputs": [],
   "source": [
    "import cv2\n",
    "import numpy as np \n"
   ]
  },
  {
   "cell_type": "code",
   "execution_count": null,
   "metadata": {},
   "outputs": [],
   "source": [
    "image = cv2.imread(\"images/Origin_of_Species.jpg\",0) # ,0 表示 把原始的圖像轉成黑白的\n",
    "# cv2.imshow(\"Origin\", image)\n",
    "# cv2.waitKey()\n",
    "\n",
    "# ret, thresh1 = cv2.threshold(image, 127, 255,cv2.THRESH_BINARY)\n",
    "# cv2.imshow(\"1. THRESH_BINARY\",thresh1)\n",
    "# cv2.waitKey()\n",
    "\n",
    "# image = cv2.GaussianBlur(image, (3, 3), 0)\n",
    "# thresh = cv2.adaptiveThreshold(image, 255, cv2.ADAPTIVE_THRESH_MEAN_C, \n",
    "#                                cv2.THRESH_BINARY, 3, 5) \n",
    "# cv2.imshow(\"Adaptive Mean Thresholding\", thresh) \n",
    "# cv2.waitKey(0) \n",
    "\n",
    "_, th2 = cv2.threshold(image, 0, 255, cv2.THRESH_BINARY + cv2.THRESH_OTSU)\n",
    "cv2.imshow(\"Oust's Thresholding\", th2) \n",
    "cv2.waitKey(0) \n",
    "\n"
   ]
  },
  {
   "cell_type": "code",
   "execution_count": null,
   "metadata": {
    "collapsed": true
   },
   "outputs": [],
   "source": []
  },
  {
   "cell_type": "code",
   "execution_count": null,
   "metadata": {
    "collapsed": true
   },
   "outputs": [],
   "source": []
  }
 ],
 "metadata": {
  "kernelspec": {
   "display_name": "Python 3",
   "language": "python",
   "name": "python3"
  },
  "language_info": {
   "codemirror_mode": {
    "name": "ipython",
    "version": 3
   },
   "file_extension": ".py",
   "mimetype": "text/x-python",
   "name": "python",
   "nbconvert_exporter": "python",
   "pygments_lexer": "ipython3",
   "version": "3.6.3"
  }
 },
 "nbformat": 4,
 "nbformat_minor": 2
}
